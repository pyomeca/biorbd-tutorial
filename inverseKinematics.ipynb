{
 "cells": [
  {
   "cell_type": "markdown",
   "id": "233dd361",
   "metadata": {},
   "source": [
    "# Let's do some biomechanics !!\n",
    "\n",
    "\n",
    "Note: To run a cell, you press SHIFT+ENTER\n"
   ]
  },
  {
   "cell_type": "markdown",
   "id": "8d1f6926",
   "metadata": {},
   "source": [
    "## Load a previously created bioMod file\n",
    "This first section load a bioMod file and allow you to vizualise it if wanted."
   ]
  },
  {
   "cell_type": "code",
   "execution_count": 1,
   "id": "21442a02",
   "metadata": {},
   "outputs": [],
   "source": [
    "# So first, let's import all the required modules \n",
    "import biorbd  # This is the core that will do all the calculation\n",
    "import bioviz  # This is to show the model\n",
    "\n",
    "import numpy  # Numpy is a python module that helps dealing with the mathematics of matrices and vectors"
   ]
  },
  {
   "cell_type": "code",
   "execution_count": 36,
   "id": "6202f513",
   "metadata": {},
   "outputs": [],
   "source": [
    "# Import and interpret the bioMod of the full body\n",
    "model = biorbd.Model(\"models/SimpleBody.bioMod\")\n",
    "\n",
    "# Define some useful information\n",
    "n_q = model.nbQ()  # The number of degrees of freedom in the model"
   ]
  },
  {
   "cell_type": "code",
   "execution_count": 18,
   "id": "586ca2de",
   "metadata": {},
   "outputs": [],
   "source": [
    "# Run this cell to show the model. \n",
    "# Please note that due to some jupyter limitations, you may have to restart after running this cell\n",
    "\n",
    "# Send the previously loaded model to the vizualizer\n",
    "viz = bioviz.Viz(loaded_model=model)\n",
    "\n",
    "# Move the model to a recognizable position (arm raised and knee flexed)\n",
    "viz.set_q([0, 0, -0.15, 1.20, 0.7, -1, 0.45])\n",
    "\n",
    "# Halt the program so you can interact with the vizualiser. Closing the window should allow to continue\n",
    "viz.exec()"
   ]
  },
  {
   "cell_type": "markdown",
   "id": "4549b3f4",
   "metadata": {},
   "source": [
    "## Creating some data\n",
    "The next section generates data. \n",
    "This is to simulate collecting data on a real human.\n",
    "The movement we simulate here is simply raising the arm vertical point down to horizontal pointing forward\n",
    "\n",
    "The strategy is to create a collection of position (stored in a matrix of \"n degrees-of-freedom\" by \"n frames\").\n",
    "Then to replace some of the data points (namely those related to the arm) so it performs the required movement.\n",
    "Finally, we will find the position of the skin markers for each of the data points (This is as if you were moving the avatar at a position, and the write down the 3d position of each blue dots). \n",
    "\n",
    "Remember that the arm in the SimpleBody.bioMod is the 4th degree-of-freedom so it is indexed \"3\" as the first index is \"0\".\n",
    "The downward pointing is when $q[3] = 0.15$ radian and fronward point at $1.7$ radian. \n",
    "We simulate 100 frames in all\n"
   ]
  },
  {
   "cell_type": "code",
   "execution_count": 3,
   "id": "e07b8c13",
   "metadata": {},
   "outputs": [],
   "source": [
    "# Let's declare some variables to make our life easy\n",
    "number_frames = 100\n",
    "starting_arm_position = 0.15\n",
    "end_arm_position = 1.7\n",
    "\n",
    "# First create a static body at each time frame\n",
    "# So let's have the full body at a relaxed position\n",
    "# Note: the transpose ensures that it is a column vector (time will be on each column)\n",
    "full_body_position = numpy.array([[0, 0, -0.15, starting_arm_position, 0.7, -1, 0.45]]).transpose()\n",
    "\n",
    "# Repeat that full body position, one for each frame\n",
    "full_body_all_position = numpy.repeat(full_body_position, number_frames, axis=1)  # axis=1 is to repeat on columns"
   ]
  },
  {
   "cell_type": "code",
   "execution_count": 4,
   "id": "ceee4ea6",
   "metadata": {},
   "outputs": [],
   "source": [
    "# Now we can create an arm movement over time\n",
    "arm_position_over_time = numpy.linspace(starting_arm_position, end_arm_position, number_frames)\n",
    "\n",
    "# And replace the arm position in the body positions \n",
    "full_body_all_position[3, :] = arm_position_over_time"
   ]
  },
  {
   "cell_type": "code",
   "execution_count": 22,
   "id": "17dead54",
   "metadata": {},
   "outputs": [],
   "source": [
    "# If you want to see the movement you just simulated, you can run this cell\n",
    "# Note: again due to Jupyter limitations, this may or may not cause issue\n",
    "\n",
    "# Send the previously loaded model to the vizualizer\n",
    "viz = bioviz.Viz(loaded_model=model)\n",
    "\n",
    "# Move the model to a recognizable position (arm raised and knee flexed)\n",
    "viz.load_movement(full_body_all_position)\n",
    "\n",
    "# Halt the program so you can admire the movement with the vizualiser. Closing the window should allow to continue\n",
    "viz.exec()"
   ]
  },
  {
   "cell_type": "code",
   "execution_count": 5,
   "id": "9411f0ba",
   "metadata": {},
   "outputs": [],
   "source": [
    "# Now we can \"collect\" the position of each skin markers at each frame\n",
    "all_skin_markers = []\n",
    "for f in range(number_frames):\n",
    "    # Get the skin marker at a position\n",
    "    skin_markers = list(model.markers(full_body_all_position[:, f]))\n",
    "    \n",
    "    # The next for loop goes over all the skin markers and transform them in vector \n",
    "    # This is mandatory because of the way biorbd stores data\n",
    "    for i in range(len(skin_markers)):\n",
    "        skin_markers[i] = skin_markers[i].to_array()\n",
    "    \n",
    "    # Put all these skin marker of a frame in a 3 by \"n markers\" matrix (3 for x, y and z components)\n",
    "    skin_markers = numpy.array(skin_markers).transpose()\n",
    "        \n",
    "    # Store the results in the main data list\n",
    "    all_skin_markers.append(skin_markers)"
   ]
  },
  {
   "cell_type": "markdown",
   "id": "de6e8d14",
   "metadata": {},
   "source": [
    "## Inverse kinematics\n",
    "Inverse kinematics tries to find what are the positions that could have produced a set of given markers\n",
    "In our case, these markers are the simulated one. \n",
    "In the real life, it would be collected data\n",
    "\n",
    "The stategy is to simulate a lot a different position and find the one that reduces the most the error between the measured markers with the simulated one. Then to repeat for each frame."
   ]
  },
  {
   "cell_type": "code",
   "execution_count": 72,
   "id": "ad2b844d",
   "metadata": {
    "scrolled": false
   },
   "outputs": [],
   "source": [
    "# First let's define a function that takes in a position (q) and spits out a matrix of markers (3 x nMarkers)\n",
    "def forwardKinematics(q):\n",
    "    markers = list(model.markers(q))\n",
    "    \n",
    "    # Put these value in a single vector by concatenating (stacking top/down)\n",
    "    markersVector = numpy.ndarray((0,))\n",
    "    for i in range(len(markers)):\n",
    "        markersVector = numpy.concatenate((markersVector, markers[i].to_array()), axis=0)\n",
    "\n",
    "    # Return the markers matrix to caller (newaxis converts the vector into a matrix with one column)\n",
    "    return markersVector[:, numpy.newaxis]\n",
    "\n",
    "# Define also a jacobian function\n",
    "def jacobian(q):\n",
    "    # Now test a bunch of positions to find the best (which minimizes the error with real markers)\n",
    "    jacobian = list(model.markersJacobian(q))\n",
    "\n",
    "    # Put these value in a matrix by concatenating (stacking top/down)\n",
    "    jacobianMatrix = numpy.ndarray((0, n_q))\n",
    "    for i in range(len(jacobian)):\n",
    "        jacobianMatrix = numpy.concatenate((jacobianMatrix, jacobian[i].to_array()), axis=0)\n",
    "    \n",
    "    # Return the jacobian matrix to caller\n",
    "    return jacobianMatrix"
   ]
  },
  {
   "cell_type": "code",
   "execution_count": 73,
   "id": "a98a6638",
   "metadata": {},
   "outputs": [
    {
     "name": "stdout",
     "output_type": "stream",
     "text": [
      "The markers when the body is at [ 0.    0.   -0.15  1.7   0.7  -1.    0.45] is:\n",
      "\n",
      "[[ 0.        ]\n",
      " [ 0.        ]\n",
      " [ 0.        ]\n",
      " [ 0.        ]\n",
      " [ 0.05529211]\n",
      " [ 0.3658453 ]\n",
      " [ 0.        ]\n",
      " [ 0.08219097]\n",
      " [ 0.54382409]\n",
      " [ 0.        ]\n",
      " [ 0.46520345]\n",
      " [ 0.35731942]\n",
      " [ 0.        ]\n",
      " [ 0.15680617]\n",
      " [-0.25575736]\n",
      " [ 0.        ]\n",
      " [ 0.02631651]\n",
      " [-0.52589149]\n",
      " [ 0.        ]\n",
      " [ 0.16631651]\n",
      " [-0.52589149]]\n",
      "\n",
      "The jacobian matrix at the same position is:\n",
      "[[ 0.          0.          0.          0.          0.          0.\n",
      "   0.        ]\n",
      " [ 1.          0.          0.          0.          0.          0.\n",
      "   0.        ]\n",
      " [ 0.          1.          0.          0.          0.          0.\n",
      "   0.        ]\n",
      " [ 0.          0.          0.          0.          0.          0.\n",
      "   0.        ]\n",
      " [ 1.          0.         -0.3658453   0.          0.          0.\n",
      "   0.        ]\n",
      " [ 0.          1.          0.05529211  0.          0.          0.\n",
      "   0.        ]\n",
      " [ 0.          0.          0.          0.          0.          0.\n",
      "   0.        ]\n",
      " [ 1.          0.         -0.54382409  0.          0.          0.\n",
      "   0.        ]\n",
      " [ 0.          1.          0.08219097  0.          0.          0.\n",
      "   0.        ]\n",
      " [ 0.          0.          0.          0.          0.          0.\n",
      "   0.        ]\n",
      " [ 1.          0.         -0.35731942  0.00852588  0.          0.\n",
      "   0.        ]\n",
      " [ 0.          1.          0.46520345  0.40991134  0.          0.\n",
      "   0.        ]\n",
      " [ 0.          0.          0.          0.          0.          0.\n",
      "   0.        ]\n",
      " [ 1.          0.          0.25575736  0.          0.25575736  0.\n",
      "   0.        ]\n",
      " [ 0.          1.          0.15680617  0.          0.15680617  0.\n",
      "   0.        ]\n",
      " [ 0.          0.          0.          0.          0.          0.\n",
      "   0.        ]\n",
      " [ 1.          0.          0.52589149  0.          0.52589149  0.27013413\n",
      "   0.        ]\n",
      " [ 0.          1.          0.02631651  0.          0.02631651 -0.13048966\n",
      "   0.        ]\n",
      " [ 0.          0.          0.          0.          0.          0.\n",
      "   0.        ]\n",
      " [ 1.          0.          0.52589149  0.          0.52589149  0.27013413\n",
      "   0.        ]\n",
      " [ 0.          1.          0.16631651  0.          0.16631651  0.00951034\n",
      "   0.14      ]]\n"
     ]
    }
   ],
   "source": [
    "# The let's test these functions and print the result to make sure it works as expected\n",
    "q = numpy.array([0, 0, -0.15, 1.7, 0.7, -1, 0.45])\n",
    "print(f\"The markers when the body is at {q} is:\")\n",
    "print(\"\")\n",
    "print(forwardKinematics(q))\n",
    "print(\"\")\n",
    "print(\"The jacobian matrix at the same position is:\")\n",
    "print(jacobian(q))"
   ]
  },
  {
   "cell_type": "code",
   "execution_count": 105,
   "id": "379f7570",
   "metadata": {},
   "outputs": [
    {
     "ename": "AttributeError",
     "evalue": "'numpy.ndarray' object has no attribute 'inverse'",
     "output_type": "error",
     "traceback": [
      "\u001b[0;31m---------------------------------------------------------------------------\u001b[0m",
      "\u001b[0;31mAttributeError\u001b[0m                            Traceback (most recent call last)",
      "Input \u001b[0;32mIn [105]\u001b[0m, in \u001b[0;36m<cell line: 6>\u001b[0;34m()\u001b[0m\n\u001b[1;32m      7\u001b[0m     simulated_markers \u001b[38;5;241m=\u001b[39m forwardKinematics(q_init[:, \u001b[38;5;241m0\u001b[39m])\n\u001b[1;32m      8\u001b[0m     jacobianMatrix \u001b[38;5;241m=\u001b[39m jacobian(q_init[:, \u001b[38;5;241m0\u001b[39m])\n\u001b[0;32m----> 9\u001b[0m     q_init \u001b[38;5;241m=\u001b[39m \u001b[43mjacobianMatrix\u001b[49m\u001b[38;5;241;43m.\u001b[39;49m\u001b[43minverse\u001b[49m() \u001b[38;5;241m@\u001b[39m (simulated_markers \u001b[38;5;241m-\u001b[39m real_markers)  \u001b[38;5;66;03m# @ is a matrix multiplication\u001b[39;00m\n\u001b[1;32m     10\u001b[0m     \u001b[38;5;66;03m# print(q_advance)\u001b[39;00m\n\u001b[1;32m     11\u001b[0m     \u001b[38;5;66;03m# q_init = q_advance  # Advance the q_init and repeat\u001b[39;00m\n\u001b[1;32m     12\u001b[0m \u001b[38;5;28mprint\u001b[39m(q_init)\n",
      "\u001b[0;31mAttributeError\u001b[0m: 'numpy.ndarray' object has no attribute 'inverse'"
     ]
    }
   ],
   "source": [
    "# Perform the inverse kinematics for the frame 0\n",
    "real_markers = all_skin_markers[0].transpose().flatten()[:, numpy.newaxis]  # Get the position of real markers in a single vector\n",
    "number_of_passage = 50  # Number of Newton iterations\n",
    "q_init = numpy.zeros((n_q, 1))\n",
    "\n",
    "for i in range(number_of_passage):\n",
    "    simulated_markers = forwardKinematics(q_init[:, 0])\n",
    "    jacobianMatrix = jacobian(q_init[:, 0])\n",
    "    q_init = jacobianMatrix.inverse() @ (simulated_markers - real_markers)  # @ is a matrix multiplication\n",
    "    # print(q_advance)\n",
    "    # q_init = q_advance  # Advance the q_init and repeat\n",
    "print(q_init)"
   ]
  },
  {
   "cell_type": "code",
   "execution_count": 100,
   "id": "c3ae0257",
   "metadata": {},
   "outputs": [
    {
     "data": {
      "text/plain": [
       "(21, 1)"
      ]
     },
     "execution_count": 100,
     "metadata": {},
     "output_type": "execute_result"
    }
   ],
   "source": []
  },
  {
   "cell_type": "code",
   "execution_count": 89,
   "id": "90c89364",
   "metadata": {},
   "outputs": [
    {
     "data": {
      "text/plain": [
       "array([ 0.        ,  0.        ,  0.        ,  0.        ,  0.05529211,\n",
       "        0.3658453 ,  0.        ,  0.08219097,  0.54382409,  0.        ,\n",
       "        0.05529211, -0.0441547 ,  0.        ,  0.15680617, -0.25575736,\n",
       "        0.        ,  0.02631651, -0.52589149,  0.        ,  0.16631651,\n",
       "       -0.52589149])"
      ]
     },
     "execution_count": 89,
     "metadata": {},
     "output_type": "execute_result"
    }
   ],
   "source": []
  },
  {
   "cell_type": "code",
   "execution_count": 57,
   "id": "d5308d95",
   "metadata": {},
   "outputs": [
    {
     "data": {
      "text/plain": [
       "(21, 7)"
      ]
     },
     "execution_count": 57,
     "metadata": {},
     "output_type": "execute_result"
    }
   ],
   "source": [
    "\n"
   ]
  },
  {
   "cell_type": "code",
   "execution_count": 56,
   "id": "f79c1c9e",
   "metadata": {},
   "outputs": [
    {
     "data": {
      "text/plain": [
       "(21, 1)"
      ]
     },
     "execution_count": 56,
     "metadata": {},
     "output_type": "execute_result"
    }
   ],
   "source": []
  },
  {
   "cell_type": "code",
   "execution_count": null,
   "id": "a0af2b94",
   "metadata": {},
   "outputs": [],
   "source": []
  }
 ],
 "metadata": {
  "kernelspec": {
   "display_name": "Python 3 (ipykernel)",
   "language": "python",
   "name": "python3"
  },
  "language_info": {
   "codemirror_mode": {
    "name": "ipython",
    "version": 3
   },
   "file_extension": ".py",
   "mimetype": "text/x-python",
   "name": "python",
   "nbconvert_exporter": "python",
   "pygments_lexer": "ipython3",
   "version": "3.9.12"
  }
 },
 "nbformat": 4,
 "nbformat_minor": 5
}
