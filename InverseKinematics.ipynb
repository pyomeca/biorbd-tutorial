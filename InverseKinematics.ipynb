{
 "cells": [
  {
   "cell_type": "markdown",
   "id": "233dd361",
   "metadata": {},
   "source": [
    "# Let's do some biomechanics !!\n",
    "\n",
    "\n",
    "Note: To run a cell, you press SHIFT+ENTER\n"
   ]
  },
  {
   "cell_type": "markdown",
   "id": "8d1f6926",
   "metadata": {},
   "source": [
    "## Load a previously created bioMod file\n",
    "This first section prepares Python and load a `.bioMod` file as shown in the `ModelCreation` script."
   ]
  },
  {
   "cell_type": "code",
   "execution_count": null,
   "id": "21442a02",
   "metadata": {},
   "outputs": [],
   "source": [
    "# So first, let's import all the required modules \n",
    "import biorbd  # This is the core that will do all the calculation\n",
    "import bioviz  # This is to show the model\n",
    "\n",
    "from copy import copy  # Allows to copy arrays\n",
    "import numpy  # Numpy is a python module that helps dealing with the mathematics of matrices and vectors\n",
    "numpy.set_printoptions(precision=4, suppress=True)  # Make the printing of numpy matrices prettier\n",
    "\n",
    "from matplotlib import pyplot"
   ]
  },
  {
   "cell_type": "code",
   "execution_count": null,
   "id": "6202f513",
   "metadata": {},
   "outputs": [],
   "source": [
    "# Import and interpret the bioMod of the full body\n",
    "model = biorbd.Model(\"models/SimpleBody.bioMod\")\n",
    "\n",
    "# Define some useful information\n",
    "n_q = model.nbQ()  # The number of degrees of freedom in the model\n",
    "arm_index = 3  # The index of the arm in the vector of degree of freedom. This is determined by the model"
   ]
  },
  {
   "cell_type": "markdown",
   "id": "4549b3f4",
   "metadata": {},
   "source": [
    "## Creating some data\n",
    "The next section generates data. \n",
    "This is to simulate collecting data on a real human.\n",
    "The movement we simulate here is simply raising the arm vertical point down to horizontal pointing forward\n",
    "\n",
    "The strategy is to create a collection of position (stored in a matrix of \"n degrees-of-freedom\" by \"n frames\").\n",
    "Then to replace some of the data points (namely those related to the arm) so it performs the required movement.\n",
    "Finally, we will find the position of the skin markers for each of the data points (This is as if you were moving the avatar at a position, and the write down the 3d position of each blue dots). \n",
    "\n",
    "Remember that the arm in the SimpleBody.bioMod is the 4th degree-of-freedom so it is indexed \"3\" as the first index is \"0\".\n",
    "The downward pointing is when $q[3] = 0.15$ radian and fronward point at $1.7$ radian. \n",
    "We simulate 100 frames in all\n"
   ]
  },
  {
   "cell_type": "code",
   "execution_count": null,
   "id": "e07b8c13",
   "metadata": {},
   "outputs": [],
   "source": [
    "# Let's declare some variables to make our life easy\n",
    "number_frames = 100\n",
    "frame_by_second = 100\n",
    "starting_arm_position = 0.15\n",
    "end_arm_position = 1.7\n",
    "with_noise = True\n",
    "\n",
    "# Get us a time vector which will be useful while graphing\n",
    "time_vector = numpy.linspace(0, number_frames / frame_by_second, number_frames)\n",
    "\n",
    "# First create a static body at each time frame\n",
    "# So let's have the full body at a starting posture (arm down and knee flexed)\n",
    "# Note: the transpose ensures that it is a column vector (time will be on each column)\n",
    "full_body_position = numpy.array([[0, 0, -0.15, starting_arm_position, 0.7, -1, 0.45]]).transpose()\n",
    "\n",
    "# Repeat that full body position, one for each frame\n",
    "full_body_all_position = numpy.repeat(full_body_position, number_frames, axis=1)  # axis=1 is to repeat on columns"
   ]
  },
  {
   "cell_type": "code",
   "execution_count": null,
   "id": "ceee4ea6",
   "metadata": {},
   "outputs": [],
   "source": [
    "# Now we can create an arm movement over time\n",
    "arm_position_over_time = numpy.linspace(starting_arm_position, end_arm_position, number_frames)\n",
    "\n",
    "# Add some noise as no data are perfect\n",
    "if with_noise:\n",
    "    noise = (numpy.random.rand(arm_position_over_time.shape[0]) - 0.5) / 20  # Noise of ±0.025\n",
    "    arm_position_over_time_noised = arm_position_over_time + noise\n",
    "else:\n",
    "    arm_position_over_time_noised = arm_position_over_time\n",
    "\n",
    "# And replace the arm position in the body positions \n",
    "full_body_all_position[arm_index, :] = arm_position_over_time_noised"
   ]
  },
  {
   "cell_type": "code",
   "execution_count": null,
   "id": "17dead54",
   "metadata": {},
   "outputs": [],
   "source": [
    "# If you want to see the movement you just simulated, you can run this cell\n",
    "# Note: Due to Jupyter limitations, this may or may not cause issue\n",
    "\n",
    "# Send the previously loaded model to the vizualizer\n",
    "viz = bioviz.Viz(loaded_model=model)\n",
    "\n",
    "# Move the model to a recognizable position (arm raised and knee flexed)\n",
    "viz.load_movement(full_body_all_position)\n",
    "\n",
    "# Halt the program so you can admire the movement with the vizualiser. Closing the window should allow to continue\n",
    "viz.exec()"
   ]
  },
  {
   "cell_type": "code",
   "execution_count": null,
   "id": "9411f0ba",
   "metadata": {},
   "outputs": [],
   "source": [
    "# Finally we can \"collect\" the position of each skin markers at each frame. \n",
    "# This effectively simulates a data collection. Data could originate from \n",
    "# sofisticated equipment such as a Vicon system or it can be produced using\n",
    "# more lay software such as Kinovea. The important bit is that the data are\n",
    "# structured in a way that allows to subtract simulated data to real data\n",
    "all_skin_markers = []\n",
    "for f in range(number_frames):\n",
    "    # Get the skin marker at a position\n",
    "    skin_markers = list(model.markers(full_body_all_position[:, f]))\n",
    "    \n",
    "    # The next for loop goes over all the skin markers and transform them in vector \n",
    "    # This is mandatory because of the way biorbd stores data\n",
    "    for i in range(len(skin_markers)):\n",
    "        skin_markers[i] = skin_markers[i].to_array()\n",
    "    \n",
    "    # Put all these skin marker of a frame in a 3 by \"n markers\" matrix (3 for x, y and z components)\n",
    "    skin_markers = numpy.array(skin_markers).transpose()\n",
    "        \n",
    "    # Store the results in the main data list\n",
    "    all_skin_markers.append(skin_markers)"
   ]
  },
  {
   "cell_type": "markdown",
   "id": "de6e8d14",
   "metadata": {},
   "source": [
    "## Inverse kinematics\n",
    "Inverse kinematics tries to find what are the positions that could have produced a set of given markers\n",
    "In our case, these markers are the simulated one. \n",
    "In the real life, it would be collected data\n",
    "\n",
    "The stategy is to simulate a lot a different position and find the one that reduces the most the error between the measured markers with the simulated one. Then to repeat for each frame."
   ]
  },
  {
   "cell_type": "code",
   "execution_count": null,
   "id": "ad2b844d",
   "metadata": {
    "scrolled": false
   },
   "outputs": [],
   "source": [
    "# First let's define a function that takes in a position (q) and spits out a matrix of markers (3 x nMarkers)\n",
    "def forwardKinematics(q):\n",
    "    markers = list(model.markers(q))\n",
    "    \n",
    "    # Put these value in a single vector by concatenating (stacking top/down)\n",
    "    markersVector = numpy.ndarray((0,))\n",
    "    for i in range(len(markers)):\n",
    "        markersVector = numpy.concatenate((markersVector, markers[i].to_array()), axis=0)\n",
    "\n",
    "    # Return the markers matrix to caller (newaxis converts the vector into a matrix with one column)\n",
    "    return markersVector[:, numpy.newaxis]\n",
    "\n",
    "# Define also a jacobian function\n",
    "def jacobian(q):\n",
    "    # Now test a bunch of positions to find the best (which minimizes the error with real markers)\n",
    "    jacobian = list(model.markersJacobian(q))\n",
    "\n",
    "    # Put these value in a matrix by concatenating (stacking top/down)\n",
    "    jacobianMatrix = numpy.ndarray((0, n_q))\n",
    "    for i in range(len(jacobian)):\n",
    "        jacobianMatrix = numpy.concatenate((jacobianMatrix, jacobian[i].to_array()), axis=0)\n",
    "    \n",
    "    # Return the jacobian matrix to caller\n",
    "    return jacobianMatrix\n",
    "\n",
    "# Finally define the inverse kinematics function base on \n",
    "# https://en.wikipedia.org/wiki/Inverse_kinematics#The_Jacobian_inverse_technique\n",
    "def inverseKinematics(real_markers, q_init, number_of_iterations=5):\n",
    "    for i in range(number_of_iterations):\n",
    "        # Get the marker and jacobian at q_init\n",
    "        simulated_markers = forwardKinematics(q_init[:, 0])\n",
    "        jacobianMatrix = jacobian(q_init[:, 0])\n",
    "\n",
    "        # Compute the step length to perform. Reminder: @ is a matrix multiplication operator\n",
    "        q_advance = numpy.linalg.pinv(jacobianMatrix) @ (simulated_markers - real_markers)\n",
    "\n",
    "        # Advance the q_init and repeat until number_of_iterations is exhausted\n",
    "        q_init -= q_advance\n",
    "    return q_init"
   ]
  },
  {
   "cell_type": "code",
   "execution_count": null,
   "id": "a98a6638",
   "metadata": {},
   "outputs": [],
   "source": [
    "# The let's test these functions and print the result to make sure it works as expected\n",
    "q = numpy.array([0, 0, -0.15, 1.7, 0.7, -1, 0.45])\n",
    "print(f\"The markers when the body is at {q} is:\")\n",
    "print(\"\")\n",
    "print(forwardKinematics(q))\n",
    "print(\"\")\n",
    "print(\"The jacobian matrix at the same position is:\")\n",
    "print(jacobian(q))"
   ]
  },
  {
   "cell_type": "code",
   "execution_count": null,
   "id": "379f7570",
   "metadata": {},
   "outputs": [],
   "source": [
    "# Perform the inverse kinematics for the frame 0\n",
    "frame = 0\n",
    "number_of_iterations = 5  # Number of Newton iterations\n",
    "\n",
    "# First get the \"collected\" real markers data\n",
    "real_markers = all_skin_markers[frame].transpose().flatten()[:, numpy.newaxis]\n",
    "\n",
    "# Perform the inverse kinematics\n",
    "q_init = numpy.zeros((n_q, 1))  # Initialize to a poor position (all zeros)\n",
    "q_inverse = inverseKinematics(real_markers, q_init, number_of_iterations)\n",
    "    \n",
    "# Compare the results with the expected value (that we know because we created the data ourselves)\n",
    "q_real = full_body_all_position[:, frame][:, numpy.newaxis]  # Get the reference answer\n",
    "\n",
    "print(f\"The expected answer is: {q_real.transpose()}\")\n",
    "print(f\"The computed answer is: {q_inverse.transpose()}\")\n",
    "print(f\"The RMSE between them is: {numpy.sqrt(sum((q_inverse - q_real)**2))}\")"
   ]
  },
  {
   "cell_type": "code",
   "execution_count": null,
   "id": "c3ae0257",
   "metadata": {},
   "outputs": [],
   "source": [
    "# Now that we know how to do it for one frame, we can do it at each frame\n",
    "# But that time, we can use a better q_init guess from the second frame as we know the \n",
    "# body won't move much between frames\n",
    "\n",
    "number_of_iterations = 5  # Number of Newton iterations\n",
    "\n",
    "q_init = numpy.zeros((n_q, 1))  # Initialize to a poor position (all zeros)\n",
    "q_inverse = numpy.ndarray((n_q, number_frames))\n",
    "for frame in range(len(all_skin_markers)):\n",
    "    # First get the \"collected\" real markers data\n",
    "    real_markers = all_skin_markers[frame].transpose().flatten()[:, numpy.newaxis]\n",
    "\n",
    "    # Perform the inverse kinematics\n",
    "    q_inverse[:, frame] = inverseKinematics(real_markers, q_init, number_of_iterations)[:, 0]\n",
    "    \n",
    "    # Take the previous position as the starting point. \n",
    "    q_init = copy(q_inverse[:, frame][:, numpy.newaxis])\n",
    "    number_of_iterations = 2  # We don't need to perform as much iteration now that we have a good starting point\n",
    "\n",
    "# Now print the sum RMSE\n",
    "q_real = full_body_all_position  # Get the reference answer\n",
    "print(f\"The sum RMSE is: {sum(numpy.sqrt(sum((q_inverse - q_real)**2)))}\")"
   ]
  },
  {
   "cell_type": "code",
   "execution_count": null,
   "id": "a0af2b94",
   "metadata": {},
   "outputs": [],
   "source": [
    "# We can finally graph the real kinematics of the arm against the reconstructed\n",
    "pyplot.title(\"Arm angle against time\")\n",
    "pyplot.ylabel(\"Arm angle (rad)\")\n",
    "pyplot.xlabel(\"Time (s)\")\n",
    "\n",
    "pyplot.plot(time_vector, q_real[arm_index, :])\n",
    "pyplot.plot(time_vector, q_inverse[arm_index, :])"
   ]
  },
  {
   "cell_type": "code",
   "execution_count": null,
   "id": "7e08f14c",
   "metadata": {},
   "outputs": [],
   "source": []
  }
 ],
 "metadata": {
  "kernelspec": {
   "display_name": "Python 3 (ipykernel)",
   "language": "python",
   "name": "python3"
  },
  "language_info": {
   "codemirror_mode": {
    "name": "ipython",
    "version": 3
   },
   "file_extension": ".py",
   "mimetype": "text/x-python",
   "name": "python",
   "nbconvert_exporter": "python",
   "pygments_lexer": "ipython3",
   "version": "3.9.12"
  }
 },
 "nbformat": 4,
 "nbformat_minor": 5
}
